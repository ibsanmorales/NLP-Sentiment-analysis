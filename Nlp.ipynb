{
 "cells": [
  {
   "cell_type": "markdown",
   "metadata": {},
   "source": [
    "## General proposal for Natural Language Processing, classification articles.  \n",
    "### Problem\n",
    "Looks at 3 mouths of news articles for any company and convey whether the article was a positive, negative or neutral article for the company\n",
    "\n",
    "### Solution\n",
    "The processes and technologies proposed to carry out the processing of natural language will be explained in the next steps:\n",
    "1. The first we need to do is to define the information sources, what sites or browsers we are going use to search and extract the data.\n",
    "    *\tIt could be by Creating a Crawler to get feed’s Company or select newspapers to developer subscription and consume the Api. this it could by a script only or server site app (Python, upyther notebook, Django, flask).\n",
    "\n",
    "2. When the data is massive, Apache spark it would help to clustering and distribute the task into multiples machines.\n",
    "\n",
    "3. Store data on a no relationship database like mongodb.\n",
    "\n",
    "4. To process the data and categories them whether the data is a positive, negative or neutral there are many solutions for natural language processing in sentiment analysis, but I think the better machine learning model for this problem is the **neural network Transformer model**.\n",
    "   * Using a pretraining model like **Roberta** (google BERT) , it can be perform the process by some ML AI libreries: PyTorch, Tensorflow, Spacy.\n",
    "   * Other option it is use the models from Hunggingface who It is large community of AI.\n",
    "\n",
    "5. After getting the analysis and first result of our model We can do finetuning to our model, training with a specific data to have better fit in our model.\n",
    "\n",
    "6. And finally, it could validate the hypothesis statistically and maintenance\n",
    "\n",
    "![Architeture](diagramNLP.drawio.png)"
   ]
  }
 ],
 "metadata": {
  "language_info": {
   "name": "python"
  },
  "orig_nbformat": 4
 },
 "nbformat": 4,
 "nbformat_minor": 2
}
